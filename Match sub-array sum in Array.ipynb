{
 "cells": [
  {
   "cell_type": "code",
   "execution_count": 21,
   "metadata": {
    "collapsed": false
   },
   "outputs": [
    {
     "name": "stdout",
     "output_type": "stream",
     "text": [
      "[5, 2, 7, 2, 6, 0, 3, 6, 8, 5]\n",
      "Found- start:  0  end:  2\n"
     ]
    }
   ],
   "source": [
    "import random\n",
    "arr = [1,2,3,4,5]\n",
    "arr = [int(random.random()*10) for _ in range(10)]\n",
    "required = 14\n",
    "n = len(arr)-1\n",
    "\n",
    "print arr\n",
    "\n",
    "start = 0\n",
    "end = 0\n",
    "sum = 0\n",
    "\n",
    "\n",
    "# for i in range(len(arr)):\n",
    "\n",
    "while end <= n:\n",
    "    \n",
    "    if sum > required:\n",
    "        sum-=arr[start]\n",
    "        start+=1\n",
    "    elif sum < required:\n",
    "        sum+=arr[end]\n",
    "        end+=1\n",
    "    elif sum == required:\n",
    "        print \"Found- start: \", start, \" end: \", end-1\n",
    "        break\n",
    "    else:\n",
    "        print \"Not sure\"\n",
    "    \n",
    "if sum != required: print \"Not Found\""
   ]
  }
 ],
 "metadata": {
  "kernelspec": {
   "display_name": "Python 2",
   "language": "python",
   "name": "python2"
  },
  "language_info": {
   "codemirror_mode": {
    "name": "ipython",
    "version": 2
   },
   "file_extension": ".py",
   "mimetype": "text/x-python",
   "name": "python",
   "nbconvert_exporter": "python",
   "pygments_lexer": "ipython2",
   "version": "2.7.11"
  }
 },
 "nbformat": 4,
 "nbformat_minor": 0
}
