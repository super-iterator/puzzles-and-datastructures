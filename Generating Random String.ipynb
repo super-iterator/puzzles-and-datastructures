{
 "cells": [
  {
   "cell_type": "code",
   "execution_count": 23,
   "metadata": {
    "collapsed": false
   },
   "outputs": [
    {
     "name": "stdout",
     "output_type": "stream",
     "text": [
      "w\\QH=Non@neoQjp^MPv_jPkxXSjBYmKRpbqV^=GwNgbWCMKAQ`WJF_FkGswnOW@i<^pCMgYUfQCUApE]chsemauNBBZjwLMt\\nVJ[?JX\\kdunLtg?MtxWTC`OvY]noDnNbF]AStE^sPQbRxxtw]FHHB?D^AcWPPrISxqXl_sK\\cxLvtiGkQ^ZerlAA_VM_hOffmtaKIIEEl?pDoMVomFQkjeJ=qORvthU]S]TcBbchcSwAituM>kLci?LseJrX<O]thHvUbHmbS^ow@XHYv[CSCC`ZwSr@ukdtl^JAbIimOgOB>ogfvTCG^_nBWS_TokYHrgHQLOjZpA?B=DbCCM_P?u<CwhpAvD?aH`BeBiC^tlo]s>oKsScZZO_WlAj_=u@ZsW\\krla?sGPmd>pSc[Q>raI@?=aEQOSdR?ndgY\\sw^`Bt\\vubQ<KJGMGbt[u`r<co_gDJfe<\\`h\\iwhGW==<mY<VjsGuF?oi=Bs@^whj`NtSL?Qut@v<<OKN=?RfFA`>Rgcs@hRBsIt]E<CrRclI\\W>EYV=KdtpJnRk`^?OrROsTPdtavSuiMA`IrV[eFLe>n\\nDKJkPfHZFn[CGWk?[VesWuc<Z?uB^BDx@shxwljQCUtXbEWQkkguIead<QGsEYPDILJB<uR\\RIYOe_EBRunaZNPHRChhPukIPG_XSQM\\GT>J>K?MbR]ffIIhKt?qKlwe\\@XjfiaPnZoxawYx>`NIZ>xaLcq\\<tgxRDNtP\\Mk]gmdkuOTPG>`Jwv`b[JWAl>rH\\wuqakZ@@OrUtw\\psdbcMFsI>r`louBxH`AvoPiG\\\\IIcQQZFKoErhGoMgIL=M]otMBniTnVG\\>wbqFCepQ?obsdOG^nhhwv=p[qgCH\\UGZoq_gJSOKKfH`ufnCGvcamtPfpDDeVf\\GTEIDg>aJoUwML<K<]g<cHuMZXmOE]DEtJoHOZt>QPETX[R[slAuOfLmGkCmYuQ_tr>ANrjGCVs\\MsIXIg_iB_cL\n"
     ]
    }
   ],
   "source": [
    "import math,random\n",
    "\n",
    "# Number of characters in the random String\n",
    "N = 1000\n",
    "randomString = \"\"\n",
    "randArray = []\n",
    "\n",
    "## Generating an exact\n",
    "randArray.extend(  [ random.randint(60,120) for i in range(N)  ]   )\n",
    "    \n",
    "## Converting the integers to Characters        \n",
    "for i in randArray:\n",
    "   randomString += chr( i )\n",
    "        \n",
    "print randomString"
   ]
  }
 ],
 "metadata": {
  "kernelspec": {
   "display_name": "Python 2",
   "language": "python",
   "name": "python2"
  },
  "language_info": {
   "codemirror_mode": {
    "name": "ipython",
    "version": 2
   },
   "file_extension": ".py",
   "mimetype": "text/x-python",
   "name": "python",
   "nbconvert_exporter": "python",
   "pygments_lexer": "ipython2",
   "version": "2.7.11"
  }
 },
 "nbformat": 4,
 "nbformat_minor": 0
}
