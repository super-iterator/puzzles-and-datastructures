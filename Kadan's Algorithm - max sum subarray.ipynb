{
 "cells": [
  {
   "cell_type": "code",
   "execution_count": 11,
   "metadata": {
    "collapsed": false
   },
   "outputs": [
    {
     "name": "stdout",
     "output_type": "stream",
     "text": [
      "Original Array:  [-3, 1, -4, 2, -4]\n",
      "Truncated Array:  [1, -4, 2, -4]\n",
      "2\n"
     ]
    }
   ],
   "source": [
    "## Solving maximum sum of subarray\n",
    "import random\n",
    "\n",
    "array = [ int(random.random()*10-5) for _ in range(5) ]\n",
    "print \"Original Array: \" , array\n",
    "\n",
    "maxGlobal = maxCurrent = array[0]\n",
    "\n",
    "array = array[1:]\n",
    "print \"Truncated Array: \" , array\n",
    "\n",
    "for i in array:\n",
    "    \n",
    "    maxCurrent = max( i , i + maxCurrent )\n",
    "    maxGlobal = maxCurrent if maxCurrent > maxGlobal else maxGlobal\n",
    "    \n",
    "\n",
    "print maxGlobal"
   ]
  }
 ],
 "metadata": {
  "kernelspec": {
   "display_name": "Python 2",
   "language": "python",
   "name": "python2"
  },
  "language_info": {
   "codemirror_mode": {
    "name": "ipython",
    "version": 2
   },
   "file_extension": ".py",
   "mimetype": "text/x-python",
   "name": "python",
   "nbconvert_exporter": "python",
   "pygments_lexer": "ipython2",
   "version": "2.7.11"
  }
 },
 "nbformat": 4,
 "nbformat_minor": 0
}
