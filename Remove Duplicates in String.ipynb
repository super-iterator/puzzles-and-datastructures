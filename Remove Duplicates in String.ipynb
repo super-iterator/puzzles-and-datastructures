{
 "cells": [
  {
   "cell_type": "code",
   "execution_count": 15,
   "metadata": {
    "collapsed": false
   },
   "outputs": [
    {
     "name": "stdout",
     "output_type": "stream",
     "text": [
      "geeksforgeeks\n",
      "geksfor\n"
     ]
    }
   ],
   "source": [
    "## Removing duplicates from a string\n",
    "\n",
    "string =\"geeksforgeeks\"\n",
    "\n",
    "distinct = {}\n",
    "\n",
    "for k,v in enumerate(string):\n",
    "    \n",
    "    if distinct.get(v) == None:\n",
    "       distinct[v] = k \n",
    "  \n",
    "## We cannot make filtered as a string, because it will not accept slice assignment. Strings are immutable in Python\n",
    "\n",
    "filtered = ['_'] * len(string)\n",
    "\n",
    "for i in distinct:\n",
    "    filtered[ distinct[i] ] = i\n",
    "  \n",
    "result = \"\".join(filtered).replace('_','')\n",
    "\n",
    "print string\n",
    "print result"
   ]
  }
 ],
 "metadata": {
  "kernelspec": {
   "display_name": "Python 2",
   "language": "python",
   "name": "python2"
  },
  "language_info": {
   "codemirror_mode": {
    "name": "ipython",
    "version": 2
   },
   "file_extension": ".py",
   "mimetype": "text/x-python",
   "name": "python",
   "nbconvert_exporter": "python",
   "pygments_lexer": "ipython2",
   "version": "2.7.11"
  }
 },
 "nbformat": 4,
 "nbformat_minor": 0
}
