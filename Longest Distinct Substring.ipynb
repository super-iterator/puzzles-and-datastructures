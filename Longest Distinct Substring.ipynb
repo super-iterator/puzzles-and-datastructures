{
 "cells": [
  {
   "cell_type": "code",
   "execution_count": 31,
   "metadata": {
    "collapsed": false
   },
   "outputs": [
    {
     "name": "stdout",
     "output_type": "stream",
     "text": [
      "21\n",
      "BTb]=cLhQJxMwrIngPR_?\n"
     ]
    }
   ],
   "source": [
    "# Longest distinct substring\n",
    "\n",
    "string = \"WJerfI[YGdhRnn_LiIvTcITgOaBf=BTb]=cLhQJxMwrIngPR_?Q@HFgIof`pvm^Z>kAKPfN`Ydtr\\<oKbfbWPMLAWo_hIrfuorkI\"\n",
    "substr = \"\"\n",
    "\n",
    "longstSubstr = \"\"\n",
    "longstCount = 0\n",
    "counter = 0\n",
    "\n",
    "for i in string:\n",
    "    if i not in substr:\n",
    "        substr += i\n",
    "        counter +=1\n",
    "    else:      \n",
    "        if longstCount < counter:\n",
    "            longstCount = counter \n",
    "            longstSubstr = substr\n",
    "           \n",
    "        substr = i\n",
    "        counter = 1\n",
    "        \n",
    "\n",
    "print longstCount\n",
    "print longstSubstr"
   ]
  }
 ],
 "metadata": {
  "kernelspec": {
   "display_name": "Python 2",
   "language": "python",
   "name": "python2"
  },
  "language_info": {
   "codemirror_mode": {
    "name": "ipython",
    "version": 2
   },
   "file_extension": ".py",
   "mimetype": "text/x-python",
   "name": "python",
   "nbconvert_exporter": "python",
   "pygments_lexer": "ipython2",
   "version": "2.7.11"
  }
 },
 "nbformat": 4,
 "nbformat_minor": 0
}
