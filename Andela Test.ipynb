{
 "cells": [
  {
   "cell_type": "code",
   "execution_count": 2,
   "metadata": {
    "collapsed": false
   },
   "outputs": [
    {
     "name": "stdout",
     "output_type": "stream",
     "text": [
      "1234\n"
     ]
    }
   ],
   "source": [
    "employeeName = dict()\n",
    "\n",
    "list_of_employee = [\n",
    "    {\n",
    "        \"id\": 1234,\n",
    "        \"name\": \"Andela\",\n",
    "        \"manager\" : \"solomon\"\n",
    "    },\n",
    "    {\n",
    "        \"id\": 1235,\n",
    "        \"name\": \"Andela\",\n",
    "        \"manager\" : \"Mark\"\n",
    "    }\n",
    "]\n",
    "\n",
    "id = list_of_employee[0].get(\"id\")\n",
    "name\n",
    "\n",
    "\n",
    "for i in list_of_employee:\n",
    "    i.get(\"id\") == 1234\n"
   ]
  },
  {
   "cell_type": "code",
   "execution_count": 9,
   "metadata": {
    "collapsed": false
   },
   "outputs": [
    {
     "ename": "AttributeError",
     "evalue": "Employee instance has no attribute 'get'",
     "output_type": "error",
     "traceback": [
      "\u001b[0;31m---------------------------------------------------------------------------\u001b[0m",
      "\u001b[0;31mAttributeError\u001b[0m                            Traceback (most recent call last)",
      "\u001b[0;32m<ipython-input-9-84eee692a90d>\u001b[0m in \u001b[0;36m<module>\u001b[0;34m()\u001b[0m\n\u001b[1;32m     43\u001b[0m \u001b[0;32mfor\u001b[0m \u001b[0mempl\u001b[0m \u001b[0;32min\u001b[0m \u001b[0mlist_of_employees\u001b[0m\u001b[0;34m:\u001b[0m\u001b[0;34m\u001b[0m\u001b[0m\n\u001b[1;32m     44\u001b[0m \u001b[0;34m\u001b[0m\u001b[0m\n\u001b[0;32m---> 45\u001b[0;31m     \u001b[0;32mif\u001b[0m \u001b[0mempl\u001b[0m\u001b[0;34m.\u001b[0m\u001b[0mget\u001b[0m\u001b[0;34m(\u001b[0m\u001b[0;34m\"managers_name\"\u001b[0m\u001b[0;34m)\u001b[0m \u001b[0;32mis\u001b[0m \u001b[0;32mnot\u001b[0m \u001b[0mNone\u001b[0m\u001b[0;34m:\u001b[0m\u001b[0;34m\u001b[0m\u001b[0m\n\u001b[0m\u001b[1;32m     46\u001b[0m         \u001b[0mhave_no_managers\u001b[0m\u001b[0;34m.\u001b[0m\u001b[0mappend\u001b[0m\u001b[0;34m(\u001b[0m\u001b[0mempl\u001b[0m\u001b[0;34m)\u001b[0m\u001b[0;34m\u001b[0m\u001b[0m\n\u001b[1;32m     47\u001b[0m \u001b[0;34m\u001b[0m\u001b[0m\n",
      "\u001b[0;31mAttributeError\u001b[0m: Employee instance has no attribute 'get'"
     ]
    }
   ],
   "source": [
    "class Employee():\n",
    "    \n",
    "    ## True means a manager, False means an employee\n",
    "    def __init__(self, name=\"\", id=0, managers_name=\"\", type=False):\n",
    "        self.name          = name\n",
    "        self.id            = id\n",
    "        self.managers_name = managers_name\n",
    "        self.type          = type\n",
    "        \n",
    "        \n",
    "    def getManger():\n",
    "        return self.id\n",
    "    \n",
    "    ## Not a manager search method\n",
    "    def getEmployeeObjects(self, id):\n",
    "        \n",
    "        ## return employee details\n",
    "        details = dict()\n",
    "\n",
    "        if self.type == False:\n",
    "            \n",
    "            details['id'] = self.id\n",
    "            details['name'] = self.name\n",
    "            details['managers_name'] = self.managers_name\n",
    "            \n",
    "            return details\n",
    "        \n",
    "        else :\n",
    "            False\n",
    "    \n",
    "        \n",
    "\n",
    "\n",
    "\n",
    "employee1 = Employee(\"Andela Employee1\",id=1234, managers_name=\"mark\", type =False)\n",
    "employee2 = Employee(\"Andela Employee2\",id=1235, managers_name=\"solomon\", type =False)\n",
    "employee3 = Employee(\"Andela Employee3\",id=1236, managers_name=\"\", type =False)\n",
    "employee4 = Employee(\"Andela Employee4\",id=1237, managers_name=\"andela\", type =False)\n",
    "\n",
    "list_of_employees = [employee1,employee2,employee3,employee4]\n",
    "have_no_managers = []\n",
    "\n",
    "for empl in list_of_employees:\n",
    "    \n",
    "    if empl.get(\"managers_name\") is not None:\n",
    "        have_no_managers.append(empl)\n",
    "        \n",
    "\n",
    "print have_no_managers"
   ]
  },
  {
   "cell_type": "code",
   "execution_count": 15,
   "metadata": {
    "collapsed": false
   },
   "outputs": [
    {
     "name": "stdout",
     "output_type": "stream",
     "text": [
      "andela\n",
      "adl\n"
     ]
    }
   ],
   "source": [
    "mark = \"andela\"\n",
    "\n",
    "mark[::-1]\n",
    "mark[::]\n",
    "\n",
    "mark[0]\n",
    "mark[-1]\n",
    "\n",
    "reversed(mark)\n",
    "print mark\n",
    "\n",
    "print mark[0:-1:2]\n",
    "\n"
   ]
  }
 ],
 "metadata": {
  "kernelspec": {
   "display_name": "Python 2",
   "language": "python",
   "name": "python2"
  },
  "language_info": {
   "codemirror_mode": {
    "name": "ipython",
    "version": 2
   },
   "file_extension": ".py",
   "mimetype": "text/x-python",
   "name": "python",
   "nbconvert_exporter": "python",
   "pygments_lexer": "ipython2",
   "version": "2.7.11"
  }
 },
 "nbformat": 4,
 "nbformat_minor": 0
}
