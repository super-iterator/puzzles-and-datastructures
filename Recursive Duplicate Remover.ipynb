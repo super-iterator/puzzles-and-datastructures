{
 "cells": [
  {
   "cell_type": "code",
   "execution_count": 57,
   "metadata": {
    "collapsed": false
   },
   "outputs": [
    {
     "name": "stdout",
     "output_type": "stream",
     "text": [
      "a a\n",
      "acaabbbacdddd\n",
      "b b\n",
      "acaabbacdddd\n",
      "d d\n",
      "acaabbacddd\n",
      "acaabbacddd\n"
     ]
    }
   ],
   "source": [
    "######### Wrong - Need to be fiexd ############\n",
    "string = \"acaaabbbacdddd\"\n",
    "filtered = \"\"\n",
    "\n",
    "def removeDuplicates(string,index,length):\n",
    "        \n",
    "    if index+1 < len(string):  \n",
    "        if string[index] == string[index-1]:   \n",
    "            print string[index-1] , string[index]\n",
    "            string = string[:index] + string[index+1:]\n",
    "            print string\n",
    "\n",
    "            global filtered \n",
    "            filtered = string\n",
    "        \n",
    "        \n",
    "        removeDuplicates(string , index+1 , length)\n",
    "    \n",
    "\n",
    "removeDuplicates(string,1,len(string))\n",
    "print filtered"
   ]
  },
  {
   "cell_type": "code",
   "execution_count": 69,
   "metadata": {
    "collapsed": false
   },
   "outputs": [
    {
     "name": "stdout",
     "output_type": "stream",
     "text": [
      "acabacd\n"
     ]
    }
   ],
   "source": [
    "### Using stack\n",
    "string = \"acaaabbbacdddd\"\n",
    "stack = []\n",
    "\n",
    "def removeDuplicates(string,index,length):\n",
    "    global stack\n",
    "\n",
    "    if index < length:\n",
    "        if len(stack):\n",
    "            if string[index] != stack[-1]:\n",
    "                stack.append( string[index] )\n",
    "        else:\n",
    "            stack.append( string[index] )\n",
    "                \n",
    "\n",
    "        removeDuplicates(string,index+1,length)\n",
    "        \n",
    "\n",
    "removeDuplicates(string , 0 , len(string))\n",
    "print \"\".join(stack)"
   ]
  }
 ],
 "metadata": {
  "kernelspec": {
   "display_name": "Python 2",
   "language": "python",
   "name": "python2"
  },
  "language_info": {
   "codemirror_mode": {
    "name": "ipython",
    "version": 2
   },
   "file_extension": ".py",
   "mimetype": "text/x-python",
   "name": "python",
   "nbconvert_exporter": "python",
   "pygments_lexer": "ipython2",
   "version": "2.7.11"
  }
 },
 "nbformat": 4,
 "nbformat_minor": 0
}
