{
 "cells": [
  {
   "cell_type": "code",
   "execution_count": 25,
   "metadata": {
    "collapsed": false
   },
   "outputs": [
    {
     "name": "stdout",
     "output_type": "stream",
     "text": [
      "[7, 4, 2, 2, 0, 4, 9, 5, 1, 2]\n",
      "Sorted Array:  [0, 1, 2, 2, 2, 4, 4, 5, 7, 9]\n"
     ]
    }
   ],
   "source": [
    "## Shell sort in Python\n",
    "import random\n",
    "\n",
    "def swap(a,b):\n",
    "    temp = a\n",
    "    a=b\n",
    "    b=temp\n",
    "    return a,b\n",
    "    \n",
    "\n",
    "arr = [int(random.random()*10) for _ in range(10)]\n",
    "\n",
    "print arr\n",
    "\n",
    "for i in range(1,len(arr)):\n",
    "    \n",
    "    for j in range(i,0,-1):\n",
    "        \n",
    "        if arr[j]<arr[j-1]:\n",
    "            arr[j],arr[j-1] = swap(arr[j],arr[j-1])\n",
    "            \n",
    " \n",
    "print \"Sorted Array: \" , arr"
   ]
  },
  {
   "cell_type": "code",
   "execution_count": 32,
   "metadata": {
    "collapsed": false
   },
   "outputs": [
    {
     "name": "stdout",
     "output_type": "stream",
     "text": [
      "Before Sort:   [6, 9, 2, 5, 1, 3, 0, 4, 0, 5]\n",
      "Sorted Array:  [0, 0, 1, 2, 3, 4, 5, 5, 6, 9]\n"
     ]
    }
   ],
   "source": [
    "## Doing the same sorting method with k spacing \n",
    "## Shell sort in Python\n",
    "import random\n",
    "\n",
    "def swap(a,b):\n",
    "    temp = a\n",
    "    a=b\n",
    "    b=temp\n",
    "    return a,b\n",
    "    \n",
    "\n",
    "arr = [int(random.random()*10) for _ in range(10)]\n",
    "print \"Before Sort:  \" , arr\n",
    "\n",
    "arrLength = len(arr)\n",
    "middle = arrLength/2\n",
    "\n",
    "## Dividing loop on each iteration by 2\n",
    "while middle >=1 :\n",
    "    for i in range(middle,len(arr)):\n",
    "\n",
    "        for j in range(i,0,-1):\n",
    "            if arr[j]<arr[j-middle]:\n",
    "                arr[j],arr[j-middle] = swap(arr[j],arr[j-middle])\n",
    "            else:\n",
    "                break\n",
    "    \n",
    "    middle/=2\n",
    " \n",
    "print \"Sorted Array: \" , arr\n"
   ]
  }
 ],
 "metadata": {
  "kernelspec": {
   "display_name": "Python 2",
   "language": "python",
   "name": "python2"
  },
  "language_info": {
   "codemirror_mode": {
    "name": "ipython",
    "version": 2
   },
   "file_extension": ".py",
   "mimetype": "text/x-python",
   "name": "python",
   "nbconvert_exporter": "python",
   "pygments_lexer": "ipython2",
   "version": "2.7.11"
  }
 },
 "nbformat": 4,
 "nbformat_minor": 0
}
