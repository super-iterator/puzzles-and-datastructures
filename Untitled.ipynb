{
 "cells": [
  {
   "cell_type": "code",
   "execution_count": 22,
   "metadata": {
    "collapsed": false
   },
   "outputs": [
    {
     "name": "stdout",
     "output_type": "stream",
     "text": [
      "4\n"
     ]
    }
   ],
   "source": [
    "def count(S, m, n ): \n",
    "  \n",
    "    # If n is 0 then there is 1 \n",
    "    # solution (do not include any coin) \n",
    "    if (n == 0): \n",
    "        return 1\n",
    "  \n",
    "    # If n is less than 0 then no \n",
    "    # solution exists \n",
    "    if (n < 0): \n",
    "        return 0; \n",
    "  \n",
    "    # If there are no coins and n \n",
    "    # is greater than 0, then no \n",
    "    # solution exist \n",
    "    if (m <=0 and n >= 1): \n",
    "        return 0\n",
    "  \n",
    "    # count is sum of solutions (i)  \n",
    "    # including S[m-1] (ii) excluding S[m-1] \n",
    "    return count( S, m - 1, n ) + count( S, m, n-S[m-1] ); \n",
    "\n",
    "\n",
    "print count([5,2,3],3,10)"
   ]
  },
  {
   "cell_type": "code",
   "execution_count": 28,
   "metadata": {
    "collapsed": false
   },
   "outputs": [
    {
     "name": "stdout",
     "output_type": "stream",
     "text": [
      "[1, 1, 1, 1, 1, 2, 3, 3, 3, 4, 5, 0]\n",
      "12\n",
      "None\n"
     ]
    }
   ],
   "source": [
    "def count(coins, n, sum):\n",
    "\n",
    "    ## This array will store the result of the combination of coins we have to make a specific sum 'i'.\n",
    "    combination = [0]*(sum+1);\n",
    "    \n",
    "    \n",
    "    ## In how many ways can we make the sum 0 from these coins? You're right. In 1 way. By choosing nothing.\n",
    "    combination[0] = 1\n",
    "    \n",
    "    ## Iterate over all the coins in the array\n",
    "    for i in range(n):\n",
    "        \n",
    "        ## Iterate over the all the sum from j=1 to j=sum\n",
    "        for j in range(sum):\n",
    "            \n",
    "            ## Only if the value j-coins[i] exist, then the result would be combination[j]+combination[j-coins[i]];\n",
    "            if j>= coins[i] :\n",
    "                combination[j] += combination[j-coins[i]];\n",
    "            \n",
    "                \n",
    "    # Uncomment to print the combination array to see how it varies.\n",
    "    # for(int j=0;j<=sum;j++){\n",
    "    #   cout<<combination[j]<<\" \";\n",
    "    \n",
    "    print combination\n",
    "    print len(combination)\n",
    "\n",
    "\n",
    "print count([9, 6, 5, 1],4,11)"
   ]
  },
  {
   "cell_type": "code",
   "execution_count": 38,
   "metadata": {
    "collapsed": false
   },
   "outputs": [
    {
     "name": "stdout",
     "output_type": "stream",
     "text": [
      "6\n",
      "4\n",
      "3\n"
     ]
    }
   ],
   "source": [
    "def count(S,m,n):\n",
    "    \n",
    "    ## Table of zeros\n",
    "    table = [ [0 for x in range(m)] for x in range(n+1) ]\n",
    "    \n",
    "    for i in range(m):\n",
    "        table[0][i] = 1\n",
    "        \n",
    "    \n",
    "    for i in range(1,n+1):\n",
    "        for j in range(m):\n",
    "            \n",
    "            # Count the solutions including S[j]\n",
    "            x = table[i-S[j]][j] if i-S[j] >=0 else 0\n",
    "            \n",
    "            # Count of solutions excluding S[j]\n",
    "            y = table[i][j-1] if j>=1 else 0\n",
    "            \n",
    "            # total count\n",
    "            table[i][j] = x + y\n",
    "        \n",
    "#         print table\n",
    "        \n",
    "    return table[n][m-1]\n",
    "\n",
    "print count([9, 6, 5, 1],4,11)\n",
    "print count([5,2,3],3,10)\n",
    "print count([1,2],2,4)"
   ]
  },
  {
   "cell_type": "code",
   "execution_count": 39,
   "metadata": {
    "collapsed": false
   },
   "outputs": [
    {
     "name": "stdout",
     "output_type": "stream",
     "text": [
      "3\n"
     ]
    }
   ],
   "source": [
    "def dynamicCount(coins, coinsLen, money):\n",
    "  \n",
    "  ## Creating a table of Zeros\n",
    "  table = [ [0 for x in range(coinsLen)] for x in range(money+1) ]\n",
    "  \n",
    "  for i in range(coinsLen):\n",
    "    table[0][i] = 1\n",
    "    \n",
    "  for i in range(1,money+1):\n",
    "    for j in range(coinsLen):\n",
    "\n",
    "      x = table[i-coins[j]][j] if i-coins[j] >=0 else 0\n",
    "\n",
    "      y = table[i][j-1] if j>=1 else 0\n",
    "\n",
    "      ## Total count \n",
    "      table[i][j] = x+y\n",
    "       \n",
    "  return table[money][coinsLen-1]\n",
    "\n",
    "print dynamicCount([1,2],2,4)"
   ]
  }
 ],
 "metadata": {
  "kernelspec": {
   "display_name": "Python 2",
   "language": "python",
   "name": "python2"
  },
  "language_info": {
   "codemirror_mode": {
    "name": "ipython",
    "version": 2
   },
   "file_extension": ".py",
   "mimetype": "text/x-python",
   "name": "python",
   "nbconvert_exporter": "python",
   "pygments_lexer": "ipython2",
   "version": "2.7.11"
  }
 },
 "nbformat": 4,
 "nbformat_minor": 0
}
