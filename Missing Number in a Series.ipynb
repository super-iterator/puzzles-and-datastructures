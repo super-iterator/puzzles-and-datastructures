{
 "cells": [
  {
   "cell_type": "code",
   "execution_count": 2,
   "metadata": {
    "collapsed": false
   },
   "outputs": [
    {
     "name": "stdout",
     "output_type": "stream",
     "text": [
      "9\n"
     ]
    }
   ],
   "source": [
    "## Finding the missing number in a series\n",
    "\n",
    "elements_num = 10\n",
    "series = [1, 2, 3, 4, 5, 6, 7, 8, 10]\n",
    "\n",
    "if len(series) == elements_num: \n",
    "    print \"No elements missing\"\n",
    "    exit(1)\n",
    "    \n",
    "start = series[0]\n",
    "end   = series[-1]\n",
    "\n",
    "theoritical_sum = elements_num * (elements_num+1) / 2\n",
    "actual_sum = sum(series)\n",
    "\n",
    "missing_number = theoritical_sum - actual_sum\n",
    "\n",
    "print missing_number\n",
    "\n",
    "\n"
   ]
  }
 ],
 "metadata": {
  "kernelspec": {
   "display_name": "Python 2",
   "language": "python",
   "name": "python2"
  },
  "language_info": {
   "codemirror_mode": {
    "name": "ipython",
    "version": 2
   },
   "file_extension": ".py",
   "mimetype": "text/x-python",
   "name": "python",
   "nbconvert_exporter": "python",
   "pygments_lexer": "ipython2",
   "version": "2.7.11"
  }
 },
 "nbformat": 4,
 "nbformat_minor": 0
}
