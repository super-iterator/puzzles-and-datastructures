{
 "cells": [
  {
   "cell_type": "code",
   "execution_count": 13,
   "metadata": {
    "collapsed": false
   },
   "outputs": [
    {
     "ename": "SyntaxError",
     "evalue": "invalid syntax (<ipython-input-13-c00fe424470c>, line 28)",
     "output_type": "error",
     "traceback": [
      "\u001b[0;36m  File \u001b[0;32m\"<ipython-input-13-c00fe424470c>\"\u001b[0;36m, line \u001b[0;32m28\u001b[0m\n\u001b[0;31m    finally:\u001b[0m\n\u001b[0m          ^\u001b[0m\n\u001b[0;31mSyntaxError\u001b[0m\u001b[0;31m:\u001b[0m invalid syntax\n"
     ]
    }
   ],
   "source": [
    "## Maximum sum of Increasing subsequence\n",
    "\n",
    "str = \"{([])}\"\n",
    "\n",
    "opennings = []\n",
    "closings  = []\n",
    "\n",
    "braces = {\n",
    "            '[' : ']',\n",
    "            '{' : '}',\n",
    "            '(' : ')',    \n",
    "         }\n",
    "\n",
    "for i in str:\n",
    "    if braces.get(i):\n",
    "        opennings.append(i)\n",
    "    else:\n",
    "        closings.append(i)\n",
    "        \n",
    "length = len(closings)-1\n",
    "        \n",
    "for k,v in enumerate(opennings):\n",
    "    if braces[v] == closings[length-k]:\n",
    "        pass\n",
    "    else:\n",
    "        print \"Unbalanced\"\n",
    "        break\n",
    "        \n"
   ]
  },
  {
   "cell_type": "code",
   "execution_count": 30,
   "metadata": {
    "collapsed": false
   },
   "outputs": [
    {
     "name": "stdout",
     "output_type": "stream",
     "text": [
      "Exception:: Unbalanced\n"
     ]
    }
   ],
   "source": [
    "## Maximum sum of Increasing subsequence\n",
    "\n",
    "str = \"{([])\"\n",
    "length = len(str)-1\n",
    "middle = len(str)/2\n",
    "\n",
    "braces = {\n",
    "            '[' : ']',\n",
    "            '{' : '}',\n",
    "            '(' : ')',    \n",
    "         }\n",
    "\n",
    "try: \n",
    "    for k in range(middle):\n",
    "        if not braces[str[k]] == str[length-k]:\n",
    "            raise Exception(\"Exception:: Unbalanced\")\n",
    "\n",
    "    print \"=>> Balanced! <<=\"\n",
    "    \n",
    "except Exception as e:\n",
    "    print e"
   ]
  }
 ],
 "metadata": {
  "kernelspec": {
   "display_name": "Python 2",
   "language": "python",
   "name": "python2"
  },
  "language_info": {
   "codemirror_mode": {
    "name": "ipython",
    "version": 2
   },
   "file_extension": ".py",
   "mimetype": "text/x-python",
   "name": "python",
   "nbconvert_exporter": "python",
   "pygments_lexer": "ipython2",
   "version": "2.7.11"
  }
 },
 "nbformat": 4,
 "nbformat_minor": 0
}
