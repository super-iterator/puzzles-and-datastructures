{
 "cells": [
  {
   "cell_type": "code",
   "execution_count": 78,
   "metadata": {
    "collapsed": false
   },
   "outputs": [
    {
     "name": "stdout",
     "output_type": "stream",
     "text": [
      "['123', '132', '231', '213', '312', '321']\n"
     ]
    }
   ],
   "source": [
    "# All permutations of a string\n",
    "result=[]\n",
    "\n",
    "\n",
    "def perm(prefix=\"\",suffix=\"\"):\n",
    "            \n",
    "    if len(suffix)==0:\n",
    "        result.append(prefix)\n",
    "    else:\n",
    "        for i in range(len(suffix)):\n",
    "            perm( prefix+suffix[i] , suffix[i+1:] )\n",
    "            \n",
    "            ## unchoose\n",
    "            suffix += suffix[i]\n",
    "            \n",
    "def permutation(s=\"\"):\n",
    "    global result\n",
    "    result = []\n",
    "    \n",
    "    perm(\"\",s)\n",
    "    return result\n",
    "\n",
    "# print permutation(\"مصر\".decode('utf8'))[4]\n",
    "print permutation(\"123\")\n",
    "# print permutation(\"ABC\")"
   ]
  },
  {
   "cell_type": "code",
   "execution_count": 83,
   "metadata": {
    "collapsed": false
   },
   "outputs": [
    {
     "name": "stdout",
     "output_type": "stream",
     "text": [
      "['ABCD', 'ABDC', 'ACBD', 'ACDB', 'ADBC', 'ADCB', 'BACD', 'BADC', 'BCAD', 'BCDA', 'BDAC', 'BDCA', 'CABD', 'CADB', 'CBAD', 'CBDA', 'CDAB', 'CDBA', 'DABC', 'DACB', 'DBAC', 'DBCA', 'DCAB', 'DCBA']\n"
     ]
    }
   ],
   "source": [
    "## Solution 2\n",
    "\n",
    "result=[]\n",
    "\n",
    "\n",
    "def perm(prefix=\"\",suffix=\"\"):\n",
    "            \n",
    "    if len(suffix)==0:\n",
    "        result.append(prefix)\n",
    "    else:\n",
    "        for i in range(len(suffix)):\n",
    "            perm( prefix+suffix[i] , suffix[0:i] + suffix[i+1:]  )\n",
    "                        \n",
    "def permutation(s=\"\"):\n",
    "    global result\n",
    "    result = []\n",
    "    \n",
    "    perm(\"\",s)\n",
    "    return result\n",
    "\n",
    "\n",
    "print permutation(\"ABCD\")"
   ]
  }
 ],
 "metadata": {
  "kernelspec": {
   "display_name": "Python 2",
   "language": "python",
   "name": "python2"
  },
  "language_info": {
   "codemirror_mode": {
    "name": "ipython",
    "version": 2
   },
   "file_extension": ".py",
   "mimetype": "text/x-python",
   "name": "python",
   "nbconvert_exporter": "python",
   "pygments_lexer": "ipython2",
   "version": "2.7.11"
  }
 },
 "nbformat": 4,
 "nbformat_minor": 0
}
