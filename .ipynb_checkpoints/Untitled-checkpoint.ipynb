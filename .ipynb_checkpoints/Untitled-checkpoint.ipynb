{
 "cells": [
  {
   "cell_type": "code",
   "execution_count": 18,
   "metadata": {
    "collapsed": false
   },
   "outputs": [
    {
     "name": "stdout",
     "output_type": "stream",
     "text": [
      "Initialized\n",
      "22\n"
     ]
    }
   ],
   "source": [
    "class test():\n",
    "    \n",
    "    def __init__(self):\n",
    "        self.item = dict()\n",
    "        \n",
    "    def __setitem__(self,key,value):\n",
    "        self.item[key] = value\n",
    "        \n",
    "    def __getitem__(self,key):\n",
    "        return self.item.get(key)\n",
    "    \n",
    "    \n",
    "t = test()\n",
    "t[3] = 22\n",
    "print t[3]\n",
    "\n"
   ]
  }
 ],
 "metadata": {
  "kernelspec": {
   "display_name": "Python 2",
   "language": "python",
   "name": "python2"
  },
  "language_info": {
   "codemirror_mode": {
    "name": "ipython",
    "version": 2
   },
   "file_extension": ".py",
   "mimetype": "text/x-python",
   "name": "python",
   "nbconvert_exporter": "python",
   "pygments_lexer": "ipython2",
   "version": "2.7.11"
  }
 },
 "nbformat": 4,
 "nbformat_minor": 0
}
