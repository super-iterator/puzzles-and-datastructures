{
 "cells": [
  {
   "cell_type": "code",
   "execution_count": 16,
   "metadata": {
    "collapsed": false
   },
   "outputs": [
    {
     "name": "stdout",
     "output_type": "stream",
     "text": [
      "1\n",
      "3\n",
      "911\n",
      "233\n",
      "911334\n",
      "['911', '233', '911334']\n",
      "['911334', '911', '233']\n",
      "set(['91133', '9113', '91', '9', '911334', '911'])\n",
      "NO\n"
     ]
    }
   ],
   "source": [
    "cases = int( input() )\n",
    "\n",
    "for _ in range(cases):\n",
    "    \n",
    "    phones_count = int( input() )\n",
    "\n",
    "    phones = [ str(input()) for i in range(phones_count) ]\n",
    "    \n",
    "    print(phones)\n",
    "    \n",
    "    sortedPhones = sorted(phones, key=int, reverse=True)\n",
    "    \n",
    "    unique_prefixes = set()\n",
    "    consistent = True\n",
    "    \n",
    "    print(sortedPhones)\n",
    "    \n",
    "    for num in sortedPhones:\n",
    "        \n",
    "        if num in unique_prefixes:\n",
    "            consistent = False\n",
    "            break\n",
    "        else:\n",
    "            for i in range(1,len(num)+1):\n",
    "                unique_prefixes.add( num[:i] )\n",
    "            \n",
    "    print(unique_prefixes)\n",
    "    \n",
    "    result = 'YES' if consistent else 'NO'\n",
    "    print(result)\n",
    "        \n"
   ]
  }
 ],
 "metadata": {
  "kernelspec": {
   "display_name": "Python 2",
   "language": "python",
   "name": "python2"
  },
  "language_info": {
   "codemirror_mode": {
    "name": "ipython",
    "version": 2
   },
   "file_extension": ".py",
   "mimetype": "text/x-python",
   "name": "python",
   "nbconvert_exporter": "python",
   "pygments_lexer": "ipython2",
   "version": "2.7.11"
  }
 },
 "nbformat": 4,
 "nbformat_minor": 0
}
